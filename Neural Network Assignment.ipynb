{
 "cells": [
  {
   "cell_type": "markdown",
   "metadata": {},
   "source": [
    "### Project: Create a neural network class\n",
    "\n",
    "---\n",
    "\n",
    "Based on previous code examples, develop a neural network class that is able to classify any dataset provided. The class should create objects based on the desired network architecture:\n",
    "\n",
    "1. Number of inputs\n",
    "2. Number of hidden layers\n",
    "3. Number of neurons per layer\n",
    "4. Number of outputs\n",
    "5. Learning rate\n",
    "\n",
    "The class must have the train, and predict functions.\n",
    "\n",
    "Test the neural network class on the datasets provided below: Use the input data to train the network, and then pass new inputs to predict on. Print the expected label and the predicted label for the input you used. Print the accuracy of the training after predicting on different inputs.\n",
    "\n",
    "Use matplotlib to plot the error that the train method generates.\n",
    "\n",
    "**Don't forget to install Keras and tensorflow in your environment!**\n",
    "\n",
    "---"
   ]
  },
  {
   "cell_type": "markdown",
   "metadata": {},
   "source": [
    "### Import the needed Packages"
   ]
  },
  {
   "cell_type": "code",
   "execution_count": 49,
   "metadata": {},
   "outputs": [],
   "source": [
    "import numpy as np\n",
    "import matplotlib.pyplot as plt\n",
    "\n",
    "# Needed for the mnist data\n",
    "from keras.datasets import mnist\n",
    "from keras.utils import to_categorical \n",
    "# ?np.random.randn"
   ]
  },
  {
   "cell_type": "markdown",
   "metadata": {},
   "source": [
    "### Define the class"
   ]
  },
  {
   "cell_type": "code",
   "execution_count": 56,
   "metadata": {},
   "outputs": [],
   "source": [
    "class NeuralNetwork:\n",
    "\n",
    "    def __init__(self, architecture, alpha):\n",
    "        '''\n",
    "            layers: List of integers which represents the architecture of the network.\n",
    "            alpha:  Learning rate.\n",
    "        '''\n",
    "        # TODO: Initialize the list of weights matrices, then store\n",
    "        # the network architecture and learning rate\n",
    "#         1. Number of inputs\n",
    "#         2. Number of hidden layers\n",
    "#         3. Number of neurons per layer\n",
    "#         4. Number of outputs\n",
    "#         5. Learning rate\n",
    "        self.n_inputs = architecture[0]\n",
    "        self.n_hidden_layers = architecture[1]\n",
    "        self.n_neurons = architecture[2]\n",
    "        self.n_outputs = architecture[3]\n",
    "        self.alpha = alpha\n",
    "        print(\"created network with: \",self.n_inputs,\" inputs,\",self.n_hidden_layers,\" hiddden layers, \",self.n_neurons,\" neurons and \",self.n_outputs,\" outputs\")\n",
    "        self.weights = []\n",
    "        self.biases = []\n",
    "        \n",
    "        #initialize weights and biases\n",
    "        for i in range(self.n_hidden_layers+1):\n",
    "            if i == 0:\n",
    "                self.weights.append(np.random.randn(self.n_inputs, self.n_neurons))\n",
    "                self.biases.append(np.random.randn(self.n_neurons))\n",
    "            elif i < self.n_hidden_layers:\n",
    "                self.weights.append(np.random.randn(self.n_neurons,self.n_neurons))\n",
    "                self.biases.append(np.random.randn(self.n_neurons))\n",
    "            else:\n",
    "                self.weights.append(np.random.randn(self.n_neurons,self.n_outputs))\n",
    "                self.biases.append(np.random.randn(self.n_outputs))\n",
    "#             print(self.weights[i].shape)\n",
    "#             print(self.biases[i].shape)\n",
    "        \n",
    "        \n",
    "    \n",
    "            \n",
    "    def __repr__(self): \n",
    "        # construct and return a string that represents the network \n",
    "        # architecture \n",
    "        return \"NeuralNetwork: {}\".format( \"-\".join(str(l) for l in self.layers))\n",
    "\n",
    "    def softmax(X):  \n",
    "        # applies the softmax function to a set of values\n",
    "        \n",
    "        expX = np.exp(X)\n",
    "        return expX / expX.sum(axis=1, keepdims=True)\n",
    "        \n",
    "    def sigmoid(self, x):\n",
    "        # the sigmoid for a given input value\n",
    "        \n",
    "        return 1.0 / (1.0 + np.exp(-x))\n",
    "    \n",
    "    def sigmoid_deriv(self, x):\n",
    "        # the derivative of the sigmoid\n",
    "        \n",
    "        return x * (1 - x)\n",
    "    \n",
    "    def predict(self, inputs):\n",
    "        # TODO: Define the predict function\n",
    "       \n",
    "    #predictions\n",
    "        values = []\n",
    "        value = inputs\n",
    "        \n",
    "        \n",
    "#        print(\"shape w:\", w.shape,\" shape value:\",value.shape)\n",
    "        index=0\n",
    "        for b, w in zip(self.biases, self.weights):\n",
    "            value = self.sigmoid(np.dot(value,w)+b)\n",
    "            if index==len(self.biases)-1 and self.n_outputs == 1:\n",
    "                continue\n",
    "            elif index==len(self.biases)-1 and self.n_outputs > 1:\n",
    "                value = self.softmax(np.dot(value,w)+b)\n",
    "            index+=1\n",
    "            \n",
    "            values.append(value)\n",
    "#             print(value)\n",
    "\n",
    "        return values\n",
    "\n",
    "        \n",
    "    def train(self, inputs, labels, epochs = 1000, displayUpdate = 100):\n",
    "        # TODO: Define the training step for the network. It should include the forward and back propagation\n",
    "        # steps, the updating of the weights, and it should print the error every 'displayUpdate' epochs\n",
    "        # It must return the errors so that they can be displayed with matplotlib\n",
    "        np.random.seed(69)\n",
    "        errors = []\n",
    "#         print(inputs.shape)\n",
    "        for e in range(epochs):\n",
    "            \n",
    "            #feed forward\n",
    "            predictions = self.predict(inputs)\n",
    "            #error from the last prediction\n",
    "            error = labels - predictions[-1]                 #element wise \n",
    "            errors.append(np.mean(np.abs(error)))\n",
    "            \n",
    "            deltas = []\n",
    "            bias_deltas = []\n",
    "            \n",
    "            \n",
    "            if e % displayUpdate == 0:\n",
    "                print(\"error in epoch \",e,\" is: \",np.mean(np.abs(errors)))\n",
    "                \n",
    "            deltas.append(error * self.sigmoid_deriv(predictions[-1]))\n",
    "            #backpropagation\n",
    "            for layer in range(1,self.n_hidden_layers+1):\n",
    "                level_error = np.dot(deltas[-layer],self.weights[-layer].T)\n",
    "                deltas.append(level_error * self.sigmoid_deriv(predictions[-(layer+1)]))\n",
    "                bias_deltas.append(np.sum(deltas[-layer]))\n",
    "                #update weights\n",
    "                self.weights[-layer]+=np.dot(predictions[-(layer+1)].T, deltas[-layer])*self.alpha\n",
    "                \n",
    "                self.bias[-layer]+=bias_deltas[-layer]*self.alpha                \n",
    "                \n",
    "            \n",
    "        return errors\n",
    "    "
   ]
  },
  {
   "cell_type": "markdown",
   "metadata": {},
   "source": [
    "### Test datasets"
   ]
  },
  {
   "cell_type": "markdown",
   "metadata": {},
   "source": [
    "#### XOR"
   ]
  },
  {
   "cell_type": "code",
   "execution_count": 51,
   "metadata": {},
   "outputs": [],
   "source": [
    "# input dataset\n",
    "XOR_inputs = np.array([  \n",
    "                [0,0],\n",
    "                [0,1],\n",
    "                [1,0],\n",
    "                [1,1]\n",
    "            ])\n",
    "\n",
    "# labels dataset            \n",
    "XOR_labels = np.array([[0,1,1,0]]).T"
   ]
  },
  {
   "cell_type": "code",
   "execution_count": 57,
   "metadata": {},
   "outputs": [
    {
     "name": "stdout",
     "output_type": "stream",
     "text": [
      "created network with:  2  inputs, 2  hiddden layers,  2  neurons and  1  outputs\n",
      "error in epoch  0  is:  0.5040089155000581\n"
     ]
    },
    {
     "ename": "ValueError",
     "evalue": "shapes (4,2) and (1,2) not aligned: 2 (dim 1) != 1 (dim 0)",
     "output_type": "error",
     "traceback": [
      "\u001b[0;31m---------------------------------------------------------------------------\u001b[0m",
      "\u001b[0;31mValueError\u001b[0m                                Traceback (most recent call last)",
      "\u001b[0;32m<ipython-input-57-6050aae3102b>\u001b[0m in \u001b[0;36m<module>\u001b[0;34m\u001b[0m\n\u001b[1;32m      6\u001b[0m \u001b[0max\u001b[0m\u001b[0;34m.\u001b[0m\u001b[0mset_ylabel\u001b[0m\u001b[0;34m(\u001b[0m\u001b[0;34m'Error'\u001b[0m\u001b[0;34m)\u001b[0m\u001b[0;34m\u001b[0m\u001b[0;34m\u001b[0m\u001b[0m\n\u001b[1;32m      7\u001b[0m \u001b[0;34m\u001b[0m\u001b[0m\n\u001b[0;32m----> 8\u001b[0;31m \u001b[0merrors\u001b[0m \u001b[0;34m=\u001b[0m \u001b[0mskynet\u001b[0m\u001b[0;34m.\u001b[0m\u001b[0mtrain\u001b[0m\u001b[0;34m(\u001b[0m\u001b[0mXOR_inputs\u001b[0m\u001b[0;34m,\u001b[0m \u001b[0mXOR_labels\u001b[0m\u001b[0;34m)\u001b[0m\u001b[0;34m\u001b[0m\u001b[0;34m\u001b[0m\u001b[0m\n\u001b[0m\u001b[1;32m      9\u001b[0m \u001b[0max\u001b[0m\u001b[0;34m.\u001b[0m\u001b[0mplot\u001b[0m\u001b[0;34m(\u001b[0m\u001b[0merrors\u001b[0m\u001b[0;34m)\u001b[0m\u001b[0;34m\u001b[0m\u001b[0;34m\u001b[0m\u001b[0m\n",
      "\u001b[0;32m<ipython-input-56-ce5500019069>\u001b[0m in \u001b[0;36mtrain\u001b[0;34m(self, inputs, labels, epochs, displayUpdate)\u001b[0m\n\u001b[1;32m    109\u001b[0m             \u001b[0;31m#backpropagation\u001b[0m\u001b[0;34m\u001b[0m\u001b[0;34m\u001b[0m\u001b[0;34m\u001b[0m\u001b[0m\n\u001b[1;32m    110\u001b[0m             \u001b[0;32mfor\u001b[0m \u001b[0mlayer\u001b[0m \u001b[0;32min\u001b[0m \u001b[0mrange\u001b[0m\u001b[0;34m(\u001b[0m\u001b[0;36m1\u001b[0m\u001b[0;34m,\u001b[0m\u001b[0mself\u001b[0m\u001b[0;34m.\u001b[0m\u001b[0mn_hidden_layers\u001b[0m\u001b[0;34m+\u001b[0m\u001b[0;36m1\u001b[0m\u001b[0;34m)\u001b[0m\u001b[0;34m:\u001b[0m\u001b[0;34m\u001b[0m\u001b[0;34m\u001b[0m\u001b[0m\n\u001b[0;32m--> 111\u001b[0;31m                 \u001b[0mlevel_error\u001b[0m \u001b[0;34m=\u001b[0m \u001b[0mnp\u001b[0m\u001b[0;34m.\u001b[0m\u001b[0mdot\u001b[0m\u001b[0;34m(\u001b[0m\u001b[0mdeltas\u001b[0m\u001b[0;34m[\u001b[0m\u001b[0;34m-\u001b[0m\u001b[0mlayer\u001b[0m\u001b[0;34m]\u001b[0m\u001b[0;34m,\u001b[0m\u001b[0mself\u001b[0m\u001b[0;34m.\u001b[0m\u001b[0mweights\u001b[0m\u001b[0;34m[\u001b[0m\u001b[0;34m-\u001b[0m\u001b[0mlayer\u001b[0m\u001b[0;34m]\u001b[0m\u001b[0;34m.\u001b[0m\u001b[0mT\u001b[0m\u001b[0;34m)\u001b[0m\u001b[0;34m\u001b[0m\u001b[0;34m\u001b[0m\u001b[0m\n\u001b[0m\u001b[1;32m    112\u001b[0m                 \u001b[0mdeltas\u001b[0m\u001b[0;34m.\u001b[0m\u001b[0mappend\u001b[0m\u001b[0;34m(\u001b[0m\u001b[0mlevel_error\u001b[0m \u001b[0;34m*\u001b[0m \u001b[0mself\u001b[0m\u001b[0;34m.\u001b[0m\u001b[0msigmoid_deriv\u001b[0m\u001b[0;34m(\u001b[0m\u001b[0mpredictions\u001b[0m\u001b[0;34m[\u001b[0m\u001b[0;34m-\u001b[0m\u001b[0;34m(\u001b[0m\u001b[0mlayer\u001b[0m\u001b[0;34m+\u001b[0m\u001b[0;36m1\u001b[0m\u001b[0;34m)\u001b[0m\u001b[0;34m]\u001b[0m\u001b[0;34m)\u001b[0m\u001b[0;34m)\u001b[0m\u001b[0;34m\u001b[0m\u001b[0;34m\u001b[0m\u001b[0m\n\u001b[1;32m    113\u001b[0m                 \u001b[0mbias_deltas\u001b[0m\u001b[0;34m.\u001b[0m\u001b[0mappend\u001b[0m\u001b[0;34m(\u001b[0m\u001b[0mnp\u001b[0m\u001b[0;34m.\u001b[0m\u001b[0msum\u001b[0m\u001b[0;34m(\u001b[0m\u001b[0mdeltas\u001b[0m\u001b[0;34m[\u001b[0m\u001b[0;34m-\u001b[0m\u001b[0mlayer\u001b[0m\u001b[0;34m]\u001b[0m\u001b[0;34m)\u001b[0m\u001b[0;34m)\u001b[0m\u001b[0;34m\u001b[0m\u001b[0;34m\u001b[0m\u001b[0m\n",
      "\u001b[0;31mValueError\u001b[0m: shapes (4,2) and (1,2) not aligned: 2 (dim 1) != 1 (dim 0)"
     ]
    },
    {
     "data": {
      "image/png": "[encoded data removed]",
      "text/plain": [
       "<Figure size 432x288 with 1 Axes>"
      ]
     },
     "metadata": {
      "needs_background": "light"
     },
     "output_type": "display_data"
    }
   ],
   "source": [
    "#TODO: Test the class with the XOR data\n",
    "skynet = NeuralNetwork([2,2,2,1],0.1)\n",
    "\n",
    "fig, ax = plt.subplots(1,1)\n",
    "ax.set_xlabel('Epoch')\n",
    "ax.set_ylabel('Error')\n",
    "\n",
    "errors = skynet.train(XOR_inputs, XOR_labels)\n",
    "ax.plot(errors)"
   ]
  },
  {
   "cell_type": "markdown",
   "metadata": {},
   "source": [
    "#### Multiple classes"
   ]
  },
  {
   "cell_type": "code",
   "execution_count": null,
   "metadata": {},
   "outputs": [],
   "source": [
    "# Creates the data points for each class\n",
    "class_1 = np.random.randn(700, 2) + np.array([0, -3])  \n",
    "class_2 = np.random.randn(700, 2) + np.array([3, 3])  \n",
    "class_3 = np.random.randn(700, 2) + np.array([-3, 3])\n",
    "\n",
    "feature_set = np.vstack([class_1, class_2, class_3])\n",
    "\n",
    "labels = np.array([0]*700 + [1]*700 + [2]*700)\n",
    "\n",
    "one_hot_labels = np.zeros((2100, 3))\n",
    "\n",
    "for i in range(2100):  \n",
    "    one_hot_labels[i, labels[i]] = 1\n",
    "\n",
    "plt.figure(figsize=(10,10))  \n",
    "plt.scatter(feature_set[:,0], feature_set[:,1], c=labels, s=30, alpha=0.5)  \n",
    "plt.show()"
   ]
  },
  {
   "cell_type": "code",
   "execution_count": null,
   "metadata": {},
   "outputs": [],
   "source": [
    "#TODO: Test the class with the multiple classes data"
   ]
  },
  {
   "cell_type": "markdown",
   "metadata": {},
   "source": [
    "#### On the mnist data set\n",
    "\n",
    "---\n",
    "Train the network to classify hand drawn digits.\n",
    "\n",
    "For this data set, if the training step is taking too long, you can try to adjust the architecture of the network to have fewer layers, or you could try to train it with fewer input. The data has already been loaded and preprocesed so that it can be used with the network.\n",
    "\n",
    "---"
   ]
  },
  {
   "cell_type": "code",
   "execution_count": null,
   "metadata": {},
   "outputs": [],
   "source": [
    "# Load the train and test data from the mnist data set\n",
    "(train_images, train_labels), (test_images, test_labels) = mnist.load_data()\n",
    "\n",
    "# Plot a sample data point\n",
    "plt.title(\"Label: \" + str(train_labels[0]))\n",
    "plt.imshow(train_images[0], cmap=\"gray\")"
   ]
  },
  {
   "cell_type": "code",
   "execution_count": null,
   "metadata": {},
   "outputs": [],
   "source": [
    "# Standardize the data\n",
    "\n",
    "# Flatten the images\n",
    "train_images = train_images.reshape((60000, 28 * 28))\n",
    "# turn values from 0-255 to 0-1\n",
    "train_images = train_images.astype('float32') / 255 \n",
    "\n",
    "test_images = test_images.reshape((10000, 28 * 28)) \n",
    "test_images = test_images.astype('float32') / 255\n",
    "\n",
    "# Create one hot encoding for the labels\n",
    "train_labels = to_categorical(train_labels) \n",
    "test_labels = to_categorical(test_labels)"
   ]
  },
  {
   "cell_type": "code",
   "execution_count": null,
   "metadata": {},
   "outputs": [],
   "source": [
    "# TODO: Test the class with the mnist data. Test the training of the network with the test_images data, and \n",
    "# record the accuracy of the classification.\n",
    "\n",
    "skynet = NeuralNetwork([784,2,16,10],0.1)\n",
    "skynet.train(train_images, train_labels)"
   ]
  },
  {
   "cell_type": "markdown",
   "metadata": {},
   "source": [
    "After predicting on the *test_images*, use matplotlib to display some of the images that were not correctly classified. Then, answer the following questions: \n",
    "\n",
    "1. **Why do you think those were incorrectly classified?**\n",
    "2. **What could you try doing to improve the classification accuracy?**\n"
   ]
  }
 ],
 "metadata": {
  "kernelspec": {
   "display_name": "Python 3",
   "language": "python",
   "name": "python3"
  },
  "language_info": {
   "codemirror_mode": {
    "name": "ipython",
    "version": 3
   },
   "file_extension": ".py",
   "mimetype": "text/x-python",
   "name": "python",
   "nbconvert_exporter": "python",
   "pygments_lexer": "ipython3",
   "version": "3.6.8"
  }
 },
 "nbformat": 4,
 "nbformat_minor": 2
}
